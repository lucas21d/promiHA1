{
 "cells": [
  {
   "cell_type": "markdown",
   "metadata": {
    "id": "80htpUtu7FUO"
   },
   "source": [
    "# ProMI Exercise Sheet 1: Basic Probabilities & Information Theory"
   ]
  },
  {
   "cell_type": "markdown",
   "metadata": {
    "id": "W29TFTrv7FUS"
   },
   "source": [
    "The first exercise sheet is about the basics of probabilities and information theory.\n",
    "The exercises are a mix of theoretical questions and practical coding exercises.\n",
    "\n",
    "For the coding exercises, we will use Python as our main programming language and rely on the NumPy and Matplotlib packages.\n",
    "If you are not familiar with Python, Jupyter Notebooks, NumPy, or Matplotlib, we recommend you go through the following tutorial before starting with the exercises: https://cs231n.github.io/python-numpy-tutorial/.\n",
    "\n",
    "The theoretical questions can be answered by adding your answers in the markdown cells and using LaTeX to write down the mathematical formulas.\n",
    "Wrap your LaTeX formulas with a dollar sign, like this: `$ f(x) = 2 $` or `$$ f(x) = 2 $$` for a formula on a new line.\n",
    "These would show as $ f(x) = 2 $ and $$ f(x) = 2 $$\n",
    "You can double-click on a markdown cell to edit it."
   ]
  },
  {
   "cell_type": "code",
   "execution_count": null,
   "metadata": {
    "id": "B3pJILgI7FUT"
   },
   "outputs": [],
   "source": [
    "import numpy as np\n",
    "from matplotlib import pyplot as plt\n",
    "from scipy.stats import geom"
   ]
  },
  {
   "cell_type": "code",
   "execution_count": null,
   "metadata": {
    "id": "4-a7WrKp7FUU"
   },
   "outputs": [],
   "source": [
    "def test_true(test_name, value: bool):\n",
    "    if value:\n",
    "        #print(\"\\033[92mTest {}: passed.\\033[0m\".format(test_name))\n",
    "        print(f'Test {test_name}: passed.')\n",
    "    else:\n",
    "        #print(\"\\033[91mTest {}: failed.\\033[0m\".format(test_name))\n",
    "        print(f'Test {test_name}: failed.')\n",
    "\n",
    "# equality\n",
    "def test_almost_equal(test_name, value: float, target: float, precision: float = 1e-4):\n",
    "    test_true(test_name, abs(value - target) < precision)\n",
    "\n",
    "# almost equal\n",
    "def test_almost_zero(test_name, value: float, precision: float = 1e-4):\n",
    "    test_almost_equal(test_name, value, 0.0, precision=precision)\n",
    "\n",
    "def test_almost_equal_array(test_name, value: np.ndarray, target: np.ndarray, precision: float = 1e-4):\n",
    "    test_true(test_name, np.all(np.abs(value - target) < precision))"
   ]
  },
  {
   "cell_type": "markdown",
   "metadata": {
    "id": "J-zxV2Os7FUV"
   },
   "source": [
    "# Part 1: Basic Probabilities"
   ]
  },
  {
   "cell_type": "markdown",
   "metadata": {
    "id": "vokLA2Eg7FUV"
   },
   "source": [
    "## Question 1.1: Bonferroni Inequality\n",
    "\n",
    "Let $A$ and $B$ be two events in a probability space. Prove the following inequality (known as the Bonferroni inequality):\n",
    "$$ P(A, B) \\geq P(A) + P(B) - 1 $$"
   ]
  },
  {
   "cell_type": "markdown",
   "metadata": {
    "id": "m_BxJw517FUV"
   },
   "source": [
    "The intersection or product of two events is given by the joint distribution: \n",
    "$$ P(A,B) = P(A \\cap B), $$\n",
    "From Probability Axiom 3 we get:\n",
    "$$ P(A \\cup B) = P(A) + P(B) - P(A \\cap B) \\Leftrightarrow P(A \\cap B) = P(A) + P(B) - P(A \\cup B), $$\n",
    "From Probability Axiom 2 we get:\n",
    "$$ (X = sample \\, space) \\; P(X) = 1 \\; \\Rightarrow P(A \\cup B) \\leq 1 $$\n",
    "$$ P(A,B) = P(A \\cap B) = P(A) + P(B) - P(A \\cup B) \\geq P(A) + P(B) -1 \\;\\;\\;\\;\\;\\;\\;\\;\\;\\;\\;\\;\\;\\;\\; \\blacksquare $$"
   ]
  },
  {
   "cell_type": "markdown",
   "metadata": {
    "id": "qV-Y2ABh7FUW"
   },
   "source": [
    "## Question 1.2: Simple Probability Density Functions\n",
    "\n",
    "The PDF of a random variable $X$ is given by:\n",
    "$$f(x) =\n",
    "\\begin{cases}\n",
    "c(2 - 2x^2) & \\text{for } -1 < x < 1 \\\\\n",
    "0 & \\text{otherwise}\n",
    "\\end{cases}$$"
   ]
  },
  {
   "cell_type": "markdown",
   "metadata": {
    "id": "kECdfCif7FUW"
   },
   "source": [
    "### 1. Find the value of $c$."
   ]
  },
  {
   "cell_type": "markdown",
   "metadata": {
    "id": "4_P2kQt87FUW"
   },
   "source": [
    "$$ 1 = \\int\\limits_{-1}^{1} c(2-2x^2)dx $$\n",
    "$$ 1 = c \\left[2x - \\frac 2 3 x^3\\right]^1_{-1} $$\n",
    "$$ 1 = c((2 - \\frac 2 3) - (-2 + \\frac 2 3)) = c((\\frac 4 3) - (-\\frac 4 3)) $$\n",
    "$$ 1 = c \\; \\frac 8 3 $$\n",
    "$$ c = \\frac 3 8 $$\n"
   ]
  },
  {
   "cell_type": "markdown",
   "metadata": {
    "id": "C4FSU7iI7FUW"
   },
   "source": [
    "### 2. Compute the expected value $E[X]$."
   ]
  },
  {
   "cell_type": "markdown",
   "metadata": {
    "id": "F_WozXPK7FUW"
   },
   "source": [
    "$$ E[X] = \\int\\limits_{-1}^{1} ​x f(x)dx $$\n",
    "$$ E[X] = \\int\\limits_{-1}^{1} ​x \\frac 3 8​(2−2x^2)dx $$\n",
    "$$ E[X] = \\frac 3 8​ \\int\\limits_{-1}^{1} ​(2x−2x^3)dx $$\n",
    "$$ E[X] = \\frac 3 8​ \\left[(x^2 - \\frac 1 2 x^4)\\right]_{-1}^{1} $$\n",
    "$$ E[X] = \\frac 3 8​ ((1-\\frac 1 2)-(1-\\frac 1 2)) $$\n",
    "$$ E[X] = \\frac 3 8​ (\\frac 1 2 - \\frac 1 2) $$\n",
    "$$ E[X] = \\frac 3 8​ (0) $$\n",
    "$$ E[X] = 0 $$"
   ]
  },
  {
   "cell_type": "markdown",
   "metadata": {
    "id": "wf30Q_gJ7FUX"
   },
   "source": [
    "### 3. What is the CDF of $X$?"
   ]
  },
  {
   "cell_type": "markdown",
   "metadata": {
    "id": "po2s5Agg7FUX"
   },
   "source": [
    "$$ F(x) = \n",
    "\\begin{cases} \n",
    "0 & \\text{für } x \\leq -1 \\\\\n",
    "\\frac {3x - x^3 + 2} {4} & \\text{für } -1 \\lt x \\lt 1 \\\\ \n",
    "1 & \\text{für } x \\geq 1 \n",
    "\\end{cases} $$"
   ]
  },
  {
   "cell_type": "markdown",
   "metadata": {
    "id": "3bVehhGT7FUX"
   },
   "source": [
    "### 4. (Coding) Plot the PDF and CDF of $X$"
   ]
  },
  {
   "cell_type": "code",
   "execution_count": null,
   "metadata": {
    "id": "WLK4sejL7FUX"
   },
   "outputs": [],
   "source": [
    "def pdf(x):\n",
    "    if (x <= -1 or x >= 1) : \n",
    "        return 0\n",
    "    else :\n",
    "        return (3/8)*(2 - 2*x*x)\n",
    "\n",
    "\n",
    "def cdf(x):\n",
    "    if (x <= -1):\n",
    "        return 0\n",
    "    if (x >= 1):\n",
    "        return 1\n",
    "    else:\n",
    "        return (3*x - x*x*x + 2)/(4)"
   ]
  },
  {
   "cell_type": "code",
   "execution_count": null,
   "metadata": {
    "id": "3P4WdsDS7FUX"
   },
   "outputs": [],
   "source": [
    "xs = np.linspace(-1.5, 1.5, 1000)\n",
    "\n",
    "pdf_values = [pdf(x) for x in xs]\n",
    "cdf_values = [cdf(x) for x in xs]\n",
    "\n",
    "plt.figure(figsize=(12, 6))\n",
    "plt.subplot(1, 2, 1)\n",
    "plt.plot(xs, pdf_values, label='PDF')\n",
    "plt.title('Probability Density Function (PDF)')\n",
    "plt.xlabel('x')\n",
    "plt.ylabel('f(x)')\n",
    "\n",
    "plt.subplot(1, 2, 2)\n",
    "plt.plot(xs, cdf_values, label='CDF')\n",
    "plt.title('Cumulative Distribution Function (CDF)')\n",
    "plt.xlabel('x')\n",
    "plt.ylabel('F(x)')\n",
    "plt.show()"
   ]
  },
  {
   "cell_type": "markdown",
   "metadata": {
    "id": "HtLZXn9y7FUX"
   },
   "source": [
    "## Question 1.3: Morgan's Law\n",
    "Let $E_1$ and $E_2$ are mutually independent events. Show that $\\bar{E}_1$ and $\\bar{E}_2$ are also mutually indepent. Remark Morgan's law: $p(\\bar{A}\\bar{B}) = p(\\overline{A + B})$"
   ]
  },
  {
   "cell_type": "markdown",
   "metadata": {
    "id": "j9lnjkUA7FUX"
   },
   "source": [
    "We have to show: \n",
    "$$ P(\\bar {E}_1 \\cap \\bar {E}_2) = P(\\bar {E}_1)P(\\bar {E}_2) $$\n",
    "$$$$\n",
    "Using Morgan's Law:\n",
    "$$ P(\\bar E_1 \\cap \\bar E_2) = P(\\overline{E_1 \\cup E_2}) $$\n",
    "$$$$\n",
    "Using the Complement rule and the addition rule for probabilities:\n",
    "$$ P(\\overline{E_1 \\cup E_2}) = 1 - P(E_1 \\cup E_2) = 1 - (P(E_1) + P(E_2) - P(E_1 \\cap E_2)) $$\n",
    "$$$$\n",
    "Using the independence of $E_1$ and $E_2$: $ P(E_1 \\cap E_2) = P(E_1)P(E_2) $ we get:\n",
    "$$ P(\\bar E_1 \\cap \\bar E_2) = P(\\overline{E_1 \\cup E_2}) = 1 - (P(E_1) + P(E_2) - P(E_1)P(E_2)) = 1 - P(E_1) + P(E_2) - P(E_1)P(E_2) $$\n",
    "$$ P(\\bar E_1 \\cap \\bar E_2) = (1-P(E_1))(1-P(E_2)) $$\n",
    "$$ P(\\bar E_1 \\cap \\bar E_2) = P(\\bar {E}_1)P(\\bar {E}_2) \\;\\;\\;\\;\\;\\;\\;\\;\\;\\;\\;\\;\\;\\;\\; \\blacksquare $$\n"
   ]
  },
  {
   "cell_type": "markdown",
   "metadata": {
    "id": "pgkq7ZIr7FUY"
   },
   "source": [
    "## Question 1.4: LRU Technique\n",
    "\n",
    "Consider a system that cache files using a Least Recently Used (LRU) technique. In this system, the probability of requesting a popular file is $p(P) = 0.10$. If a cache's update happens, the probability of requesting a popular file is $p(P|U) = 0.20$. However, if no update has happened, the probability is only $p(P | \\bar{U}) = 0.05$. Find:"
   ]
  },
  {
   "cell_type": "markdown",
   "metadata": {
    "id": "duHMIxR97FUY"
   },
   "source": [
    "### 1. The probability of an update $p(U)$."
   ]
  },
  {
   "cell_type": "markdown",
   "metadata": {
    "id": "WzpeNQX37FUY"
   },
   "source": [
    "$$ p(P) = p(P|U)p(U) + p(P|\\bar U)p(\\bar U) $$\n",
    "$$ 0.10 = 0.20p(U) + 0.05(1-p(U)) $$\n",
    "$$ 0.10 = 0.20p(U) + 0.05 - 0.05p(U) $$\n",
    "$$ 0.10 - 0.05 = 0.20p(U) - 0.05p(U) $$\n",
    "$$ 0.05 = 0.15p(U) $$\n",
    "$$ p(U) = \\frac {0.05} {0.15} = \\frac 1 3 $$"
   ]
  },
  {
   "cell_type": "markdown",
   "metadata": {
    "id": "BGkll5vn7FUY"
   },
   "source": [
    "### 2. The probability of an update given a popular file was requested $p(U|P)$."
   ]
  },
  {
   "cell_type": "markdown",
   "metadata": {
    "id": "ak6qNXpD7FUY"
   },
   "source": [
    "We use Bayes' Rule:\n",
    "$$ p(U|P) = \\frac {p(U)p(P|U)} {p(P)} $$\n",
    "$$ p(U|P) = \\frac {\\frac 1 3 \\cdot 0.20} {0.10} $$\n",
    "$$ p(U|P) = \\frac {0.20} {0.30} = \\frac 2 3 $$"
   ]
  },
  {
   "cell_type": "markdown",
   "metadata": {
    "id": "8LuZGomN7FUY"
   },
   "source": [
    "## Question 1.5: Independence\n",
    "\n",
    "Due to variations in the distance from Earth, the arrival time of daily updates of a robot on Mars follows a uniform distribution between 7 AM and 8 AM. Based on the events $A = \\text{update has not arrived by 7:30 AM}$ and $B = \\text{update has arrived by 7:31 AM}$."
   ]
  },
  {
   "cell_type": "markdown",
   "metadata": {
    "id": "gaZ-j-cR7FUY"
   },
   "source": [
    "### 1. Are A and B independent? Prove your answer."
   ]
  },
  {
   "cell_type": "markdown",
   "metadata": {
    "id": "npVEmm9j7FUY"
   },
   "source": [
    "$A$ and $B$ are not independent, we prove this by contraposition:\n",
    "if $A$ and $B$ were independent, the following equality would have to be true: $ P(A \\cap B) = P(A)P(B) $\n",
    "$$$$\n",
    "X ~ Uniform(0,1), because we take 7:00 AM as 0 and 8:00 AM as 1\n",
    "$$$$\n",
    "First we compute $P(A)$: $P(A) = P(X \\gt 0.5)$ (0.5 corresponds to 7:30AM)\n",
    "$$ P(A) = 1 - P(\\bar A) = 1 - P(X \\leq 0.5) = 1 - 0.5 = 0.5 $$\n",
    "$$$$\n",
    "Now we compute $P(B)$: $P(B) = P(X \\leq 0.5167)$ (0.5167 corresponds to 7:31AM)\n",
    "$$ P(B) = 0.5167 $$\n",
    "$$$$\n",
    "Now we compute $P(A \\cap B)$ and compare it to $P(A)P(B)$ :\n",
    "$$ P(A \\cap B) = P(0.5 \\lt X \\leq 0.5167) $$\n",
    "$$ P(A \\cap B) = 0.5167 - 0.5 = 0.0167 $$\n",
    "$$ P(A)P(B) = 0.5 \\cdot 0.5167 = 0.25835 \\neq 0.0167 \\; \\text{and therefore } P(A \\cap B) \\neq P(A)P(B)$$\n",
    "$$$$\n",
    "We proved that $A$ and $B$ are not independent $\\;\\;\\; \\blacksquare $"
   ]
  },
  {
   "cell_type": "markdown",
   "metadata": {
    "id": "reIa3GRJ7FUY"
   },
   "source": [
    "### 2. Find:\n",
    "$p(B|A)$"
   ]
  },
  {
   "cell_type": "markdown",
   "metadata": {
    "id": "QwrbyDbO7FUY"
   },
   "source": [
    "$$ p(A,B) = p(A \\cap B) = p(A)p(B|A) \\Rightarrow p(B|A) = \\frac {A \\cap B} {p(A)}  = \\frac {0.0167} {0.5} = 0.0334 $$"
   ]
  },
  {
   "cell_type": "markdown",
   "metadata": {
    "id": "O863dWnB7FUY"
   },
   "source": [
    "### 2. Find:\n",
    "$p(A|B)$"
   ]
  },
  {
   "cell_type": "markdown",
   "metadata": {
    "id": "K4keKodv7FUZ"
   },
   "source": [
    "$$ p(A,B) = p(A \\cap B) = p(B)p(A|B) \\Rightarrow p(A|B) = \\frac {A \\cap B} {p(B)}  = \\frac {0.0167} {0.5167} = 0.0323 $$"
   ]
  },
  {
   "cell_type": "markdown",
   "metadata": {
    "id": "jCD-1SYi7FUZ"
   },
   "source": [
    "## Question 1.6: Probability Density Function\n",
    "\n",
    "Consider the random variable $X$ with pdf $f(x)$ given by:\n",
    "$$f(x) =\n",
    "\\begin{cases}\n",
    "a(1+x), & -1 < x \\leq 0 \\\\\n",
    "a(1-x), & 0 < x \\leq 1 \\\\\n",
    "0, & \\text{elsewhere}\n",
    "\\end{cases}$$"
   ]
  },
  {
   "cell_type": "markdown",
   "metadata": {
    "id": "FjC_8EM57FUZ"
   },
   "source": [
    "### a. Find the constant $a$ and plot $f(x)$."
   ]
  },
  {
   "cell_type": "markdown",
   "metadata": {
    "id": "mYJUUMuT7FUZ"
   },
   "source": [
    "$$ 1 = \\int\\limits_{-1}^{0} a(1+x)dx + \\int\\limits_{0}^{1} a(1-x)dx $$\n",
    "$$ \\int\\limits_{-1}^{0} a(1+x)dx = a \\cdot \\left[x + \\frac 1 2 x^2 \\right]_{-1}^0 = a \\cdot (0 - (-1 + \\frac 1 2)) = a \\cdot \\frac 1 2 $$\n",
    "$$ \\int\\limits_{0}^{1} a(1-x)dx = a \\cdot \\left[x - \\frac 1 2 x^2 \\right]_{0}^1 = a \\cdot ((1 - \\frac 1 2) - 0) = a \\cdot \\frac 1 2 $$\n",
    "$$ 1 = a \\cdot \\frac 1 2 + a \\cdot \\frac 1 2 $$\n",
    "$$ 1 = a $$\n"
   ]
  },
  {
   "cell_type": "code",
   "execution_count": null,
   "metadata": {},
   "outputs": [],
   "source": [
    "# a = 1\n",
    "\n",
    "def pdf(x):\n",
    "    if (x <= -1 or x > 1) : \n",
    "        return 0\n",
    "    if (x <= 0) :\n",
    "        return (1 + x)\n",
    "    else :\n",
    "        return (1 - x)\n",
    "\n",
    "xs = np.linspace(-1.5, 1.5, 1000)\n",
    "\n",
    "pdf_values = [pdf(x) for x in xs]\n",
    "\n",
    "plt.figure(figsize=(12, 6))\n",
    "plt.subplot(1, 2, 1)\n",
    "plt.plot(xs, pdf_values, label='PDF')\n",
    "plt.title('Probability Density Function (PDF)')\n",
    "plt.xlabel('x')\n",
    "plt.ylabel('f(x)')\n",
    "plt.show()"
   ]
  },
  {
   "cell_type": "markdown",
   "metadata": {
    "id": "OZGvTmru7FUZ"
   },
   "source": [
    "### b. Define the CDF $F(x)$ and plot it.\n"
   ]
  },
  {
   "cell_type": "markdown",
   "metadata": {
    "id": "h_1Pp4o27FUZ"
   },
   "source": [
    "#### YOUR SOLUTION HERE"
   ]
  },
  {
   "cell_type": "markdown",
   "metadata": {},
   "source": [
    "$$\n",
    "F(x) =\n",
    "\\begin{cases} \n",
    "0, & x \\leq -1, \\\\ \n",
    "x + \\frac{x^2}{2} + \\frac{1}{2}, & -1 < x \\leq 0, \\\\ \n",
    "\\frac{1}{2} + x - \\frac{x^2}{2}, & 0 < x \\leq 1, \\\\ \n",
    "1, & x > 1.\n",
    "\\end{cases}\n",
    "$$"
   ]
  },
  {
   "cell_type": "code",
   "execution_count": null,
   "metadata": {
    "id": "M85TPO8L7FUZ"
   },
   "outputs": [],
   "source": [
    "def cdf(x):\n",
    "    if (x<=-1):\n",
    "        return 0\n",
    "    if (x<=0):\n",
    "        return (x+(x*x)/2+1/2)    \n",
    "    if (x<=1) :\n",
    "        return (1/2 + x - (x*x)/2)\n",
    "    else :\n",
    "        return 1\n",
    "\n",
    "\n",
    "xs = np.linspace(-1.5, 1.5, 1000)\n",
    "\n",
    "cdf_values = [cdf(x) for x in xs]\n",
    "\n",
    "plt.figure(figsize=(12, 6))\n",
    "plt.subplot(1, 2, 2)\n",
    "plt.plot(xs, cdf_values, label='CDF')\n",
    "plt.title('Cumulative Distribution Function (CDF)')\n",
    "plt.xlabel('x')\n",
    "plt.ylabel('F(x)')\n",
    "plt.show()"
   ]
  },
  {
   "cell_type": "markdown",
   "metadata": {
    "id": "AlX71DGY7FUa"
   },
   "source": [
    "### c. Find point $b$ such that:\n",
    "$p(X > b) = \\frac{1}{2}p(X \\leq b)$.\n"
   ]
  },
  {
   "cell_type": "markdown",
   "metadata": {
    "id": "dhAQB45l7FUe"
   },
   "source": [
    "#### YOUR SOLUTION HERE"
   ]
  },
  {
   "cell_type": "markdown",
   "metadata": {
    "id": "T59c44AS7FUe"
   },
   "source": [
    "## Question 7: Joint Probability\n",
    "About joint probabilities, prove $\\int_{-\\infty}^{\\infty} \\int_{-\\infty}^{\\infty} p(x,y) \\, dxdy = 1$."
   ]
  },
  {
   "cell_type": "markdown",
   "metadata": {
    "id": "tnZQ-h7z7FUe"
   },
   "source": [
    "#### YOUR SOLUTION HERE"
   ]
  },
  {
   "cell_type": "markdown",
   "metadata": {
    "id": "FzL_DzFU7FUe"
   },
   "source": [
    "# Part 2: Distribution Statistics"
   ]
  },
  {
   "cell_type": "markdown",
   "metadata": {
    "id": "ZR12hSgT7FUe"
   },
   "source": [
    "## Problem 2.1: Expectation & Variance\n",
    "\n",
    "We consider the coffee consumption of two Computer Science students, Alice and Bob.\n",
    "Let $X$ and $Y$ be random variables characterizing the number of coffees that Alice and Bob respectively drink in a day.\n",
    "These are **discrete** random variables.\n",
    "The possible numbers of daily coffees for each programmer are denoted as $\\mathcal{X}$ for Alice and $\\mathcal{Y}$ for Bob.\n",
    "We denote their probability mass functions as $p_X$ and $p_Y$.\n",
    "\n",
    "We model Alice's consumption as follows:\n",
    "- $\\mathcal{X} = \\{0, 1, 2, 3, 4, 5\\}$\n",
    "- $p_X = [0.05, 0.10, 0.40, 0.25, 0.10, 0.10]$\n",
    "\n",
    "where $p_{X}[x] = p_{X}(x), \\quad x \\in \\mathcal{X}$.\n",
    "\n",
    "We model Bob's consumption as follows:\n",
    "- $\\mathcal{Y} = \\{0, 1, 2, 3, 4, 5, 6, 7\\}$\n",
    "- $p_Y = [0.00, 0.01, 0.09, 0.20, 0.30, 0.20, 0.10, 0.10]$\n",
    "\n",
    "where $p_{Y}[y] = p_{Y}(y), \\quad y \\in \\mathcal{Y}$.\n",
    "\n",
    "For instance, the probability that Bob drinks 2 coffees today is $p_{Y}(2) = 0.09$."
   ]
  },
  {
   "cell_type": "markdown",
   "metadata": {
    "id": "O5YlrHQ07FUe"
   },
   "source": [
    "### Question 2.1a) Theoretical Questions\n",
    "#### 1. Give the definition of the expected value of $X$, denoted as $\\mathbb{E}[X]$.\n",
    "#### 2. Show that the expectation is linear, e.g. by showing that from $\\mathbb{E}[aX + bY] = a \\mathbb{E}[X] + b \\mathbb{E}[Y]$ for constants $a$ and $b$.\n",
    "#### 3. Give the definition of the variance of $X$, denoted as $\\mathbb{V}[X]$.\n",
    "#### 4. Show that $\\mathbb{V}[cX] = c^2 \\mathbb{V}[X]$ for any constant $c \\in \\mathbb{R}$.\n",
    "#### 5. Give the formula connecting the variance $\\mathbb{V}[X]$ and the standard deviation $\\sigma_X$ of $X$.\n",
    "#### 6. Considering $\\mathcal{X}$ and $p_X$:\n",
    "    1. Compute the expected value of $X$.\n",
    "    2. Compute the variance of $X$.\n",
    "    3. Compute the standard deviation of $X$."
   ]
  },
  {
   "cell_type": "markdown",
   "metadata": {
    "id": "ks24tg-B7FUf"
   },
   "source": [
    "1. $\\mathbb{E}[X] = \\sum_{xϵX} xp(x)$ for all x\n",
    "2.\n",
    "3. $\\mathbb{V}[X] = \\mathbb{E}[X^2] - \\mathbb{E}[X]^2$\n",
    "4. $\\mathbb{V}[cX] = \\mathbb{E}[c^2X^2] - \\mathbb{E}[cX]^2 = c^2\\mathbb{E}[X^2] - c^2\\mathbb{E}[X]^2 = c^2(\\mathbb{E}[X^2] - \\mathbb{E}[X]^2) = c^2\\mathbb{V}[X]$\n",
    "5. $\\sigma _X = \\sqrt{\\mathbb{V}[X]}$\n",
    "6.1\n",
    "   $\\mathbb{E}[X] = 2.55$\n",
    "\n",
    "\n",
    "6.2 $\\mathbb{V}[X] = 1.5475$\n",
    "6.3 $\\sigma _X ≈ 1.244$\n",
    "\n",
    "\n",
    "\n"
   ]
  },
  {
   "cell_type": "markdown",
   "metadata": {
    "id": "OH8cjoKZ7FUf"
   },
   "source": [
    "### Question 2.1b) Practical Questions\n",
    "We instantiate the set of possible values for $X$ and $Y$, and their associated possibilities below using numpy arrays."
   ]
  },
  {
   "cell_type": "code",
   "execution_count": null,
   "metadata": {
    "id": "-D6k-v6m7FUf"
   },
   "outputs": [],
   "source": [
    "x_values = np.array([0, 1, 2, 3, 4, 5])\n",
    "x_probabilities = np.array([0.05, 0.10, 0.40, 0.25, 0.10, 0.10]) # NOTE: x_probabilities[i] == probability of x_values[i]\n",
    "y_values = np.array([0, 1, 2, 3, 4, 5, 6, 7])\n",
    "y_probabilities = np.array([0.00, 0.01, 0.09, 0.20, 0.30, 0.20, 0.10, 0.10])\n",
    "\n",
    "# Sanity check, the probabilities must sum to 1 (taking into account numerical precision)\n",
    "assert np.isclose(x_probabilities.sum(), 1), \"Probabilities should sum to 1.\"\n",
    "assert np.isclose(y_probabilities.sum(), 1), \"Probabilities should sum to 1.\""
   ]
  },
  {
   "cell_type": "markdown",
   "metadata": {
    "id": "-JCNkj167FUf"
   },
   "source": [
    "Let us visualize their PMF below.\n",
    "Based on this visualization, think about which random variable has the highest variance and think about what should roughly be the expected value of each random variable. Check if it is coherent with what you computed for $X$.\n",
    "(This is not a question, just a first sanity check.)"
   ]
  },
  {
   "cell_type": "code",
   "execution_count": null,
   "metadata": {
    "colab": {
     "base_uri": "https://localhost:8080/",
     "height": 388
    },
    "id": "kClzU9o47FUf",
    "outputId": "3459c1b1-7b43-4e09-88db-1896b9f77993"
   },
   "outputs": [
    {
     "data": {
      "image/png": "[encoded data removed]",
      "text/plain": [
       "<Figure size 1200x400 with 2 Axes>"
      ]
     },
     "metadata": {},
     "output_type": "display_data"
    }
   ],
   "source": [
    "# Creating figure with 1 row and 2 columns\n",
    "fig, axs = plt.subplots(1, 2, sharex=True, sharey=True, figsize=(12, 4), squeeze=True)\n",
    "\n",
    "# x\n",
    "axs[0].bar(x_values, x_probabilities)\n",
    "axs[0].set_ylabel(\"p_X(x)\")\n",
    "axs[0].set_xlabel(\"x\")\n",
    "\n",
    "# y\n",
    "axs[1].bar(y_values, y_probabilities)\n",
    "axs[1].set_ylabel(\"p_Y(y)\")\n",
    "axs[1].set_xlabel(\"y\")\n",
    "\n",
    "plt.show()"
   ]
  },
  {
   "cell_type": "markdown",
   "metadata": {
    "id": "ys8oNHAB7FUf"
   },
   "source": [
    "#### 1. Implement the functions `expectation`, `variance` and `standard_deviation` below to respectively compute the expected value, the variance and the standard deviation using the formula you provided."
   ]
  },
  {
   "cell_type": "code",
   "execution_count": null,
   "metadata": {
    "id": "3WyRH6uH7FUf"
   },
   "outputs": [],
   "source": [
    "def expectation(possible_values: np.ndarray, probabilities: np.ndarray):\n",
    "    sum = 0\n",
    "    for i in range(len(possible_values)):\n",
    "      sum += possible_values[i] * probabilities[i]\n",
    "    return sum\n",
    "\n",
    "def variance(possible_values: np.ndarray, probabilities: np.ndarray):\n",
    "    return expectation(possible_values**2, probabilities) - expectation(possible_values, probabilities)**2\n",
    "\n",
    "def standard_deviation(possible_values: np.ndarray, probabilities: np.ndarray):\n",
    "    return variance(possible_values, probabilities)**(1/2)"
   ]
  },
  {
   "cell_type": "markdown",
   "metadata": {
    "id": "ukR3wCOO7FUf"
   },
   "source": [
    "####  2.   Verify the implementation of the above functions:\n",
    "   \n",
    "   a. Does the value of $\\mathbb{E}[X]$ you computed previously match the output of your implemented function?\n",
    "   \n",
    "   b. Do you find that $\\mathbb{E}[Y]$ is roughly what you could have guessed by visualizing the PMF of $Y$?\n",
    "   \n",
    "   c. Do you find that $\\mathbb{V}[cX] = c^2 \\mathbb{V}[X]$ for any value of $c \\in \\mathbb{R}$?"
   ]
  },
  {
   "cell_type": "code",
   "execution_count": null,
   "metadata": {
    "colab": {
     "base_uri": "https://localhost:8080/"
    },
    "id": "X6nr_3un7FUg",
    "outputId": "49eaa42b-bc35-470e-fbd2-59ca1246565c"
   },
   "outputs": [
    {
     "data": {
      "text/plain": [
       "6.84"
      ]
     },
     "execution_count": 29,
     "metadata": {},
     "output_type": "execute_result"
    }
   ],
   "source": [
    "expectation(x_values, x_probabilities) + expectation(y_values, y_probabilities)"
   ]
  },
  {
   "cell_type": "markdown",
   "metadata": {
    "id": "L5btSYHh7FUg"
   },
   "source": [
    "1. yes it matches\n",
    "2. yes, when analyzing the PMF you can see that value must be a little bit more than 4\n",
    "3. yes, for c = 1\n",
    "\n"
   ]
  },
  {
   "cell_type": "markdown",
   "metadata": {
    "id": "6tl7vdO-7FUg"
   },
   "source": [
    "####  3. Interpret the results:\n",
    "   \n",
    "a. Who drinks the most coffee in a day in expectation?\n",
    "\n",
    "b. Who tends to have the most variable number of daily coffees?\n",
    "\n",
    "c. How many coffees in total do Alice and Bob drink daily in expectation?"
   ]
  },
  {
   "cell_type": "markdown",
   "metadata": {
    "id": "RIiX7Teo7FUg"
   },
   "source": [
    "1. Bob\n",
    "2. Bob\n",
    "3. 6.84 or 7 if rounded"
   ]
  },
  {
   "cell_type": "markdown",
   "metadata": {
    "id": "WQV24e_f7FUg"
   },
   "source": [
    "## Problem 2.2: Kurtosis"
   ]
  },
  {
   "cell_type": "markdown",
   "metadata": {
    "id": "NfpWfi2b7FUg"
   },
   "source": [
    "A PhD student from IAS is attempting to log into a PC in the robotic lab.\n",
    "The problem is that this PhD student is used to using an AZERTY keyboard layout, while all PCs in the lab either use a QWERTY or QWERTZ keyboard layout on the login screen.\n",
    "We would like to study the number of trials this PhD student needs to successfully log in.\n",
    "We denote as $X$, $Y$, and $Z$ the random variables characterizing the number of attempts it takes for the student to successfully log in when using an AZERTY, a QWERTY, and a QWERTZ layout respectively.\n",
    "We model these distributions using independent geometric distribution.\n",
    "\n",
    "The geometric distribution models the occurrence of the first success in an endless series of independent and identically distributed Bernoulli trials.\n",
    "A Bernoulli trial, also known as a binomial trial, is a random experiment that results in one of two outcomes: \"success\" or \"failure,\" with the probability of success represented as $p_{success}$.\n",
    "The probability mass function for a geometric distribution is defined as follows:\n",
    "$$\n",
    "p(k) = (1 - p_{success})^{k-1} p_{success}\n",
    "$$\n",
    "and it denotes the probability of being successful on the $k$-th trial.\n",
    "\n",
    "In the described setting, we consider different probabilities of success for each keyboard layout:\n",
    "- AZERTY, where the success of an attempt is highly probable: $p_{succcess}^{X} = 0.9$,\n",
    "- QWERTY, where the success of an attempt is somewhat probable: $p_{succcess}^{Y} = 0.5$,\n",
    "- QWERTZ, where the success of an attempt is quite unlikely: $p_{succcess}^{Z} = 0.2$.\n",
    "\n",
    "We then note $p_X(k)$ as the probability that the PhD student successfully logs in on its exactly $k$-th attempt and use analogous notations for $p_Y$ and $p_Z$."
   ]
  },
  {
   "cell_type": "markdown",
   "metadata": {
    "id": "dHl0OIuT7FUg"
   },
   "source": [
    "### Question 2.2a) Theoretical Questions"
   ]
  },
  {
   "cell_type": "markdown",
   "metadata": {
    "id": "hD3mjAhS7FUg"
   },
   "source": [
    "#### 1. Give the definition of the kurtosis of a random variable $X$, denoted as $\\mathrm{Kurt}[X]$. You can use $\\mu$ and $\\sigma$ as symbols to denote the expected value and standard deviation of $X$ respectively.\n",
    "\n",
    "#### 2. Explain in one sentence what the kurtosis measures about a probabilistic distribution."
   ]
  },
  {
   "cell_type": "markdown",
   "metadata": {
    "id": "J-GFsEL47FUh"
   },
   "source": [
    "1. $Kurt[X] = \\mathbb{E}[(\\frac{X-μ}{σ})^4] - 3$\n",
    "2. The kurtosis is a measure of “how long” the tail of a distribution is\n"
   ]
  },
  {
   "cell_type": "markdown",
   "metadata": {
    "id": "pEIZMQt87FUh"
   },
   "source": [
    "### Question 2.2b) Practical Questions\n",
    "\n",
    "We will rely on the `scipy` package to use the geometric distribution more easily.\n",
    "We start by instantiating a random variable for each keyboard layout and storing them in a dictionary."
   ]
  },
  {
   "cell_type": "code",
   "execution_count": null,
   "metadata": {
    "id": "Deq-zMM97FUh"
   },
   "outputs": [],
   "source": [
    "# Define probability of success at each trial for each keyboard layout\n",
    "ps_success = {\n",
    "    \"azerty\": 0.9,\n",
    "    \"qwerty\": 0.5,\n",
    "    \"qwertz\": 0.2,\n",
    "}\n",
    "\n",
    "# Random variables for each keyboard layout\n",
    "geoms = {layout: geom(p_success) for layout, p_success in ps_success.items()}"
   ]
  },
  {
   "cell_type": "markdown",
   "metadata": {
    "id": "lRJwWq-X7FUh"
   },
   "source": [
    "Let us visualize the PMF for each keyboard layout. We plot in linear and logarithmic scale to see *how big* the tail of each distribution is."
   ]
  },
  {
   "cell_type": "code",
   "execution_count": null,
   "metadata": {
    "colab": {
     "base_uri": "https://localhost:8080/",
     "height": 388
    },
    "id": "DOQthXvr7FUh",
    "outputId": "bfabeadc-d47f-44c5-edac-06a690e270ae"
   },
   "outputs": [
    {
     "data": {
      "image/png": "[encoded data removed]",
      "text/plain": [
       "<Figure size 1200x400 with 2 Axes>"
      ]
     },
     "metadata": {},
     "output_type": "display_data"
    }
   ],
   "source": [
    "# Compute pmf up to some maximum number of trials\n",
    "# We assume that higher values have too low probability to be\n",
    "# significant.\n",
    "max_num_trials = 15\n",
    "num_trials = np.arange(0, max_num_trials+1)\n",
    "pmfs = {layout: g.pmf(num_trials) for layout, g in geoms.items()}\n",
    "\n",
    "# Plot pmfs\n",
    "fig, axs = plt.subplots(1, 2, figsize=(12, 4), sharex=True)\n",
    "for layout, g in geoms.items():\n",
    "    # linscale\n",
    "    axs[0].plot(num_trials, pmfs[layout], \"o\", label=layout)\n",
    "    axs[0].vlines(num_trials, 0, pmfs[layout])\n",
    "    # logscale\n",
    "    axs[1].plot(num_trials, pmfs[layout], \"o\", label=layout)\n",
    "    axs[1].set_yscale('log')\n",
    "axs[0].set_xlabel(\"Number of trials\")\n",
    "axs[1].set_xlabel(\"Number of trials\")\n",
    "axs[0].set_ylabel(\"Probability of success after exactly n trials\")\n",
    "plt.legend()\n",
    "plt.show()"
   ]
  },
  {
   "cell_type": "markdown",
   "metadata": {
    "id": "V59GCD-N7FUh"
   },
   "source": [
    "You should notice that these distributions have different sizes of tail and it is where the kurtosis comes in handy."
   ]
  },
  {
   "cell_type": "markdown",
   "metadata": {
    "id": "JZy_kgXg7FUi"
   },
   "source": [
    "#### 1. Implement the function `kurtosis` below to compute the skewness using the formula you provided."
   ]
  },
  {
   "cell_type": "code",
   "execution_count": null,
   "metadata": {
    "id": "iCYY3dD97FUi"
   },
   "outputs": [],
   "source": [
    "def kurtosis(possible_values: np.ndarray, probabilities: np.ndarray):\n",
    "    return expectation(((possible_values-expectation(possible_values, probabilities))/standard_deviation(possible_values, probabilities))**4, probabilities) - 3"
   ]
  },
  {
   "cell_type": "markdown",
   "metadata": {
    "id": "4iMFIV037FUi"
   },
   "source": [
    "#### 2. Compare the kurtosis values your function outputs against the kurtosis values computed by `scipy`."
   ]
  },
  {
   "cell_type": "code",
   "execution_count": null,
   "metadata": {
    "colab": {
     "base_uri": "https://localhost:8080/"
    },
    "id": "hhYENBla7FUi",
    "outputId": "e91ad76e-5604-47b6-ad88-9204b7f7ffaa"
   },
   "outputs": [
    {
     "data": {
      "text/plain": [
       "0.4698417420543519"
      ]
     },
     "execution_count": 35,
     "metadata": {},
     "output_type": "execute_result"
    }
   ],
   "source": [
    "kurtosis(num_trials, pmfs['qwertz'])"
   ]
  },
  {
   "cell_type": "markdown",
   "metadata": {
    "id": "PeDxIdcG7FUi"
   },
   "source": [
    "#### 3. Could you have anticipated that the distribution for certain keyboard layouts have higher/lower kurtosis? Explain.\n",
    "#### 4. In this particular context, give a semantic interpretation to the size of the tail of the distribution.\n",
    "#### 5. Do you notice how our way of computing the kurtosis underestimates the kurtosis of long-tailed distributions? Provide an explaination by thinking about possible wrong assumptions we have made."
   ]
  },
  {
   "cell_type": "markdown",
   "metadata": {
    "id": "cx2hWuYj7FUi"
   },
   "source": [
    "#### YOUR SOLUTION HERE"
   ]
  },
  {
   "cell_type": "markdown",
   "metadata": {
    "id": "JWXQ83BB7FUi"
   },
   "source": [
    "## Problem 2.3: Median vs. Expectation\n",
    "\n",
    "Your favorite hard-drive manufacturer is happy to advertise that, in expectation, their hard drives break after only 100,000 hours of usage.\n",
    "Despite your trust in this company, you decide to investigate a little bit.\n",
    "\n",
    "You decide to assume that the time to failure/breakage follows an exponential distribution.\n",
    "Let $T$ be a **continuous** random variable following an exponential distribution, i.e. its probability density function (PDF) is defined as\n",
    "$$\n",
    "p_T(t) = \\lambda e^{-\\lambda t}, \\quad \\lambda > 0, \\quad t \\in [0, +\\infty).\n",
    "$$\n",
    "We consider $T$ to characterize the number of years it takes for a hard drive to break."
   ]
  },
  {
   "cell_type": "markdown",
   "metadata": {
    "id": "IzzoQEP77FUj"
   },
   "source": [
    "### Question 2.3a) Theoretical Questions\n",
    "\n",
    "#### 1. Give a closed form for the expected value of $T$, denoted as $\\mathbb{E}[T]$.\n",
    "#### 2. Compute the value of $\\lambda$ that would yield an average lifetime of 100,000 hours, assuming $\\lambda$ is in breakages/second.\n",
    "#### 3. Give the cumulative density function (CDF) of $T$, denoted as $F_T(t)$, as a function of $p_t$.\n",
    "#### 4. Give closed-form for $F_T(t)$.\n",
    "#### 5. Give the definition of the median of a random variable.\n",
    "#### 6. Compute the median of $T$, denoted $\\mathrm{med}_T$ as a function of $\\lambda$, and give a numerical value using the value of $\\lambda$ you computed before.\n",
    "#### 7. How does the lifetime of 50\\% of the manufacturer's hard drive compare to the advertised expected lifetime?\n",
    "#### 8. Propose one or more possible issue(s) with our reasoning which might have led to unfair results to your favorite manufacturer."
   ]
  },
  {
   "cell_type": "markdown",
   "metadata": {
    "id": "JtdtQ9XK7FUj"
   },
   "source": [
    "1. $\\mathbb{E}[T] = ∫^\\infty_{0}tf(t)dt = \\frac{1}{λ}$\n",
    "2. $λ = 2.77 * 10^{-9}$\n",
    "3. $F_T(t) = ∫_{0}^t \\lambda e^{-\\lambda t'} dt'$\n",
    "4. $F_T(t) = -e^{-λt}+ 1$\n",
    "5. We say that is a median of a random variable if $P(X \\le c) \\ge 0.5$ and $P(X \\ge c) \\ge 0.5$\n",
    "6. $med_T(λ) = \\frac{ln(0.5)}{-λ}  , med_T(2.77 * 10^{-9}) = 2.5 * 10^8$\n",
    "7. At about 69509.3 hours, the lifetime of 50% of the manufacturer's hard drive is way lower than the advertised expected lifetime\n",
    "8."
   ]
  },
  {
   "cell_type": "markdown",
   "metadata": {
    "id": "SKLZvi1v7FUj"
   },
   "source": [
    "## Question 2.3b) Practical Questions\n",
    "Let us compute the median using Python.\n",
    "Firstly, we visualize the PMF.\n"
   ]
  },
  {
   "cell_type": "code",
   "execution_count": null,
   "metadata": {
    "id": "U9NOAL_-7FUj"
   },
   "outputs": [],
   "source": [
    "lmbda = 1e-5\n",
    "max_t = 1e6\n",
    "stepsize = 1000 # stepsize should be small for high lambdas\n",
    "assert lmbda > 0, \"The value of lambda should be strictly positive!\"\n",
    "\n",
    "# Discretizing set of ws, pdf and cdf\n",
    "t = np.linspace(0, max_t, num=int(max_t / stepsize))\n",
    "p_T = lmbda * np.exp(-lmbda * t)\n",
    "F_T = np.cumsum(p_T) * stepsize # emulating integration as sum of small rectangles"
   ]
  },
  {
   "cell_type": "code",
   "execution_count": null,
   "metadata": {
    "colab": {
     "base_uri": "https://localhost:8080/",
     "height": 403
    },
    "id": "dfqzOzTm7FUj",
    "outputId": "41c7b1b2-49f0-4d89-892b-ada4fec3972a"
   },
   "outputs": [
    {
     "data": {
      "image/png": "[encoded data removed]",
      "text/plain": [
       "<Figure size 1200x400 with 2 Axes>"
      ]
     },
     "metadata": {},
     "output_type": "display_data"
    }
   ],
   "source": [
    "fig, axs = plt.subplots(1, 2, figsize=(12, 4), sharex=True)\n",
    "axs[0].plot(t, p_T)\n",
    "axs[0].set_xlabel(\"time to failure t [seconds]\")\n",
    "axs[0].set_ylabel(\"p_T(t)\")\n",
    "axs[1].plot(t, F_T)\n",
    "axs[1].set_ylabel(\"F_T(t)\")\n",
    "axs[1].set_xlabel(\"time to failure t [seconds]\")\n",
    "plt.show()"
   ]
  },
  {
   "cell_type": "markdown",
   "metadata": {
    "id": "tG5V2V-N7FUj"
   },
   "source": [
    "#### 1. Implement the function `get_theoretical_median` from the formula you derived before."
   ]
  },
  {
   "cell_type": "code",
   "execution_count": null,
   "metadata": {
    "id": "A9QyVV207FUj"
   },
   "outputs": [],
   "source": [
    "def get_med_theoretical():\n",
    "    return np.log(0.5)/-lmbda"
   ]
  },
  {
   "cell_type": "markdown",
   "metadata": {
    "id": "VyoUxJg_7FUj"
   },
   "source": [
    "#### 2. Compute the median by leveraging `F_T` that we computed before in the function `get_med_practical`."
   ]
  },
  {
   "cell_type": "code",
   "execution_count": null,
   "metadata": {
    "id": "JYWqui1n7FUk"
   },
   "outputs": [],
   "source": [
    "def get_med_practical():\n",
    "    return np.interp(0.5, F_T, t)"
   ]
  },
  {
   "cell_type": "markdown",
   "metadata": {
    "id": "t160d_Vl7FUk"
   },
   "source": [
    "#### Public Tests"
   ]
  },
  {
   "cell_type": "code",
   "execution_count": null,
   "metadata": {
    "colab": {
     "base_uri": "https://localhost:8080/"
    },
    "id": "khcHMKYp7FUk",
    "outputId": "07da2911-c8a0-497e-a22c-ac6415520320"
   },
   "outputs": [
    {
     "name": "stdout",
     "output_type": "stream",
     "text": [
      "med_theo = 69315, med_prac = 67915.92521789102\n"
     ]
    }
   ],
   "source": [
    "med_theoretical = get_med_theoretical()\n",
    "med_practical = get_med_practical()\n",
    "print(f\"med_theo = {med_theoretical:.0f}, med_prac = {med_practical}\")"
   ]
  },
  {
   "cell_type": "markdown",
   "metadata": {
    "id": "c3sw_kZv7FUk"
   },
   "source": [
    "#### 3. If there is a discrepency between the theoretical and the practical median, how do you explain it? How could you simply fix it?"
   ]
  },
  {
   "cell_type": "markdown",
   "metadata": {
    "id": "jKNhu0ws7FUk"
   },
   "source": [
    "3. The Problem is that we cant really plot a continuous graph because of the infinite nature of the set of numbers, so we have to approximate the graph by using a stepsize, which leads to a slightly inaccurate practical computation of the median"
   ]
  },
  {
   "cell_type": "markdown",
   "metadata": {
    "id": "PtJDoPxB7FUk"
   },
   "source": [
    "## Problem 2.4: Covariance and Correlation"
   ]
  },
  {
   "cell_type": "markdown",
   "metadata": {
    "id": "1zmRHPI97FUk"
   },
   "source": [
    "### Question 2.4a) Theoretical Questions\n",
    "1. Give the definition of the covariance $\\mathrm{Cov}[X, Y]$ between two random variables $X$ and $Y$.\n",
    "2. Show that $\\mathbb{V}[X + Y] = \\mathbb{V}[X] + \\mathbb{V}[Y] + 2 \\mathrm{Cov}[X, Y]$. What does this formula become when $X$ and  $Y$ are independent?"
   ]
  },
  {
   "cell_type": "markdown",
   "metadata": {
    "id": "Mnq7sn5T7FUl"
   },
   "source": [
    "1. The covariance between random variables $X$ and $Y$ is Cov $[X, Y] = \\mathbb{E}[XY] - \\mu_X \\mu_Y$\n",
    "2. $\\mathbb{V}[X+Y] = \\mathbb{E}[(X+Y)^2] - \\mathbb{E}[X+Y]^2 = \\mathbb{E}[X^2+2XY+Y^2] - (\\mathbb{E}[X] + \\mathbb{E}[Y])^2 = \\mathbb{E}[X^2] - \\mathbb{E}[X]^2 + \\mathbb{E}[Y^2] - \\mathbb{E}[Y]^2 + 2(\\mathbb{E}[XY] - \\mathbb{E}[X]\\mathbb{E}[Y]) =  \\mathbb{V}[X] + \\mathbb{V}[Y] + 2Cov[X, Y]$\n",
    "\n",
    "   When $X$ and $Y$ are independent then the formula becomes: $\\mathbb{V}[X+Y]= \\mathbb{V}[X] + \\mathbb{V}[Y]$\n",
    "\n"
   ]
  },
  {
   "cell_type": "markdown",
   "metadata": {
    "id": "YziTn0kj7FUl"
   },
   "source": [
    "# Part 3: Information Theory"
   ]
  },
  {
   "cell_type": "markdown",
   "metadata": {
    "id": "ymQzh2Rh7FUl"
   },
   "source": [
    "## Question 1: Entropy\n",
    "You are given an array of integers $X$ with $\\forall x \\in X: x \\geq 0$. Our goal is the calculate the entropy of $X$. Therefore follow the steps below:\n",
    "\n",
    "### 1.  Implement the function ```get_pmf_1d(X: np.array)``` which outputs the probability mass function for X, so p[x]=relative frequency of x in X. Think about for which indices $x$ p[x] must store a value."
   ]
  },
  {
   "cell_type": "code",
   "execution_count": null,
   "metadata": {
    "id": "gdV0CsoQ7FUl"
   },
   "outputs": [],
   "source": [
    "\n",
    "def get_pmf_1d(X: np.array):    \n",
    "    X = np.array(X)\n",
    "    max_value = np.max(X)\n",
    "    pmf = np.zeros(max_value + 1)\n",
    "    for x in X:\n",
    "        pmf[x] += 1\n",
    "    pmf = pmf / X.shape[0]\n",
    "    return pmf\n",
    "    "
   ]
  },
  {
   "cell_type": "markdown",
   "metadata": {
    "id": "NOuP599_7FUl"
   },
   "source": [
    "#### Public Tests"
   ]
  },
  {
   "cell_type": "code",
   "execution_count": null,
   "metadata": {
    "id": "J_ruoplH7FUl"
   },
   "outputs": [],
   "source": [
    "test_cases = [(np.array([0, 1, 2, 3, 4, 5, 6, 7, 8, 9]),np.ones(10) * 0.1),(np.array([0, 2, 2, 5, 8, 1, 6, 0, 8, 9]),np.array([0.2, 0.1, 0.2, 0, 0, 0.1, 0.1, 0, 0.2, 0.1]))]\n",
    "\n",
    "\n",
    "for i, (X, sol) in enumerate(test_cases):\n",
    "    # Compute DGL step using your function\n",
    "    pred = get_pmf_1d(X)\n",
    "\n",
    "    test_almost_equal_array(f'{i}', pred, sol)\n",
    "    test_almost_equal(f'Sum {i}', np.sum(pred), 1.0)"
   ]
  },
  {
   "cell_type": "markdown",
   "metadata": {
    "id": "aBMHnTTr7FUl"
   },
   "source": [
    "### 2. Implement the function ```compute_entropy(p: np.array)``` which computes the entropy $H(X)$ of the probability mass function $p$ using get_mf_1d"
   ]
  },
  {
   "cell_type": "code",
   "execution_count": null,
   "metadata": {
    "id": "ZVZmV2XM7FUm"
   },
   "outputs": [],
   "source": [
    "def compute_entropy(X: np.array):\n",
    "    pmf = get_pmf_1d(X)\n",
    "    return -np.sum(pmf * np.log2(pmf))\n"
   ]
  },
  {
   "cell_type": "markdown",
   "metadata": {
    "id": "kyhVXrzG7FUm"
   },
   "source": [
    "#### Public Tests"
   ]
  },
  {
   "cell_type": "code",
   "execution_count": null,
   "metadata": {
    "id": "vTE19o8o7FUm"
   },
   "outputs": [],
   "source": [
    "test_cases = [\n",
    "    ((np.array([1, 2, 3, 4])), 2),\n",
    "    ((np.array([0, 0, 0, 0])), 0),\n",
    "]\n",
    "\n",
    "for i, (X, sol) in enumerate(test_cases):\n",
    "    # Compute DGL step using your function\n",
    "    pred = compute_entropy(X)\n",
    "    test_almost_equal(f'{i}', pred, sol)"
   ]
  },
  {
   "cell_type": "markdown",
   "metadata": {
    "id": "CzHzuD8s7FUm"
   },
   "source": [
    "## Question 2: Compute for a Binary erasure channel the Channel Capacity (Theory question)\n",
    "In this question compute the channel capacity of a binary erasure channel with erasure probability $p_e = 0.25$ and put your result as latex code in the underlying markdown cell. Furthermore, what are the probabilities of the input $P(x)$ for which the channel capacity is achieved?\n",
    "\n",
    "The channel capacity is given by:\n",
    "\n",
    "$$C=\\max _{p(x)} \\mathrm{I}(X ; Y)$$\n",
    "\n",
    "*Hint:* Think about the probabilities of the input P(x). How are the input probabilities related to the max operator?"
   ]
  },
  {
   "cell_type": "markdown",
   "metadata": {
    "id": "IFTVlvnh7FUm"
   },
   "source": [
    "#### YOUR SOLUTION HERE\n",
    "\n",
    "The **channel capacity** is:\n",
    "\n",
    "$$C=0.75$$ \n",
    "\n",
    "The **input probabilities** P(x) that achieve this capacity are:\n",
    "\n",
    "$$P(x=0)=0.5;P(x=1)=0.5$$ \n"
   ]
  },
  {
   "cell_type": "markdown",
   "metadata": {
    "id": "5n6qxmGZ7FUm"
   },
   "source": [
    "## Question 3: Mutual Information\n",
    "Now you are given two arrays of integers $X$ and $Y$, where all elements are greater than or equal to 0 (cf. Question 1). Compute the mutual information $I(X;Y)$ between the two arrays.\n",
    "\n",
    "\n",
    "### 1. Implement the function ```get_pmf_2d(X: np.array, Y: np.array)``` which outputs the probability mass function for the joint probability of X and Y, so p[x, y]=relative frequency of x and y."
   ]
  },
  {
   "cell_type": "code",
   "execution_count": null,
   "metadata": {
    "id": "XNFiDZgf7FUm"
   },
   "outputs": [],
   "source": [
    "\n",
    "\n",
    "def get_pmf_2d(X: np.array, Y: np.array):\n",
    "    joint_histogram = np.zeros((np.max(X) + 1, np.max(Y) + 1))\n",
    "    for x, y in zip(X, Y):\n",
    "        joint_histogram[x, y] += 1\n",
    "    joint_pmf = joint_histogram / np.sum(joint_histogram)  \n",
    "    return joint_pmf\n"
   ]
  },
  {
   "cell_type": "markdown",
   "metadata": {
    "id": "cLOx_Z_17FUn"
   },
   "source": [
    "#### Public Tests"
   ]
  },
  {
   "cell_type": "code",
   "execution_count": null,
   "metadata": {
    "id": "rCAEfasg7FUn"
   },
   "outputs": [],
   "source": [
    "test_cases = [((np.array([0, 1, 2, 3, 4, 5, 6, 7, 8, 9]),np.array([0, 1, 2, 3, 4, 5, 6, 7, 8, 9])),np.eye(10,10) * 0.1),((np.array([0, 1, 2, 3]),np.array([3, 2, 2,1 ])),np.array([[0, 0, 0, 0.25], [0, 0, 0.25, 0], [0, 0, 0.25, 0], [0, 0.25, 0, 0]]))]\n",
    "\n",
    "\n",
    "for i, (X, sol) in enumerate(test_cases):\n",
    "    # Compute DGL step using your function\n",
    "    pred = get_pmf_2d(*X)\n",
    "    test_almost_equal_array(f'{i}', pred, sol)\n",
    "    test_almost_equal(f'Sum {i}', np.sum(pred), 1.0)"
   ]
  },
  {
   "cell_type": "markdown",
   "metadata": {
    "id": "szTSw6O57FUn"
   },
   "source": [
    "### 2. Implement the function ```compute_mutual_information(X: np.array, Y: np.array)``` which computes the mutual information $I(X;Y)$ between the two arrays."
   ]
  },
  {
   "cell_type": "code",
   "execution_count": null,
   "metadata": {
    "id": "1ma6N_Y97FUn"
   },
   "outputs": [],
   "source": [
    "def compute_mutual_information(X: np.array, Y: np.array):\n",
    "    joint_pmf = get_pmf_2d(X, Y)\n",
    "    \n",
    "    marginal_X = np.sum(joint_pmf, axis=0) \n",
    "    marginal_Y = np.sum(joint_pmf, axis=0) \n",
    "\n",
    "    H_X = -np.sum(marginal_X * np.log2(marginal_X + (marginal_X == 0))) \n",
    "    H_Y = -np.sum(marginal_Y * np.log2(marginal_Y + (marginal_Y == 0))) \n",
    "    H_XY = -np.sum(joint_pmf * np.log2(joint_pmf + (joint_pmf == 0))) \n",
    "\n",
    "\n",
    "    I_XY = H_X + H_Y - H_XY \n",
    "    return I_XY\n",
    "\n",
    "\n",
    "    "
   ]
  },
  {
   "cell_type": "markdown",
   "metadata": {
    "id": "gU6V71lG7FUn"
   },
   "source": [
    "#### Public Tests"
   ]
  },
  {
   "cell_type": "code",
   "execution_count": null,
   "metadata": {
    "id": "Khlai0FA7FUn"
   },
   "outputs": [],
   "source": [
    "test_cases = [\n",
    "    ((np.array([1, 2, 3, 4]), np.array([0, 1, 2, 3])), 1.5),\n",
    "    ((np.array([1, 1, 2, 1]), np.array([1, 1, 1, 2])), -0.08496),\n",
    "]\n",
    "\n",
    "# X = np.random.choice(4, 10000, p=[0.25, 0.25, 0.25, 0.25])\n",
    "\n",
    "\n",
    "for i, ((X, Y), sol) in enumerate(test_cases):\n",
    "    # Compute DGL step using your function\n",
    "    pred = compute_mutual_information(X, Y)\n",
    "    test_almost_equal(f'{i}', pred, sol)"
   ]
  },
  {
   "cell_type": "markdown",
   "metadata": {
    "id": "J2Tr8O-m7FUn"
   },
   "source": [
    "## Question 4: Average Conditional Entropy of an Image\n",
    "\n",
    "Images can be represented in pixel matrices $M \\in \\mathcal{R}^{h\\times w \\times c}$, where $h$ is the height and $w$ is the width of the image, and $c$ is the channel dimension.\n",
    "In black-and-white images, $M[m,n]$ stores the pixel color of the $m$-th row and $n$-th column of the image, which is 1 for white and 0 for black.\n",
    "In RGB arrays you will instead have a 3D value for each pixel, with values between 0 and 255, but in this exercise, we focus on black-and-white images for simplicity.\n",
    "Storing such images can take up lots of storage, especially for high-resolution pictures.\n",
    "Instead, many image storage formats, such as JPEG, use a lossy compression of the images.\n",
    "The idea we consider here is that if we know the neighboring pixels of a pixel at position $(m,n)$, this information can allow us to predict what is the pixel value at $(m,n)$, e.g., using maximum likelihood.\n",
    "How good this approximation is can be estimated with the *average conditional entropy* of this relationship, which we will compute in this exercise."
   ]
  },
  {
   "cell_type": "markdown",
   "metadata": {
    "id": "NZxrHDdg7FUo"
   },
   "source": [
    "### 1. Complete the function `show_image` which is given a 2D pixel matrix of a black-and-white image as described before, and displays the image in a matplotlib plot."
   ]
  },
  {
   "cell_type": "code",
   "execution_count": null,
   "metadata": {
    "id": "Zw9Ha4CV7FUo"
   },
   "outputs": [],
   "source": [
    "def show_image(img: np.array, title: str=''):\n",
    "    #### YOUR SOLUTION HERE"
   ]
  },
  {
   "cell_type": "markdown",
   "metadata": {
    "id": "gmOBYRso7FUo"
   },
   "source": [
    "#### Public Test"
   ]
  },
  {
   "cell_type": "code",
   "execution_count": null,
   "metadata": {
    "id": "Dqt9Lx587FUo"
   },
   "outputs": [],
   "source": [
    "np.random.seed(1)\n",
    "height, width = 100, 100\n",
    "bw_image = np.random.choice([0, 1], size=(height, width)) #, p=[0.01, 0.99])\n",
    "show_image(bw_image, title='Random BW Image')"
   ]
  },
  {
   "cell_type": "markdown",
   "metadata": {
    "id": "IKDW_K_y7FUo"
   },
   "source": [
    "### 2. It will help us to define a 'code' for the neighbors of a pixel, which we do as follows:\n",
    "Looking at a pixel, we start with the upper left neighbor and go around the image clockwise to get the remaining neighbors (s. Example).\n",
    "The sequence of 0's and 1's that we encounter can be viewed as a binary number, which we can transform into an integer to obtain a decimal code of the neighbors.\n",
    "Compute the 'neighbor code' for a pixel in the function ```get_neighbor_code```.\n",
    "\n",
    "*Note:* Make sure that your function checks that the pixel index is not at the borders of the image (because not all neighbors are available), and if not returns the neighbor code -1.\n",
    "In practice, one could define a padding for such pixels, but we will only consider pixels that are properly inside the image."
   ]
  },
  {
   "cell_type": "markdown",
   "metadata": {
    "id": "GxLaR8Ir7FUo"
   },
   "source": [
    "**Example:** In the plot above, the sequence is '10101110', which yields the neighbor code 174."
   ]
  },
  {
   "cell_type": "code",
   "execution_count": null,
   "metadata": {
    "id": "0YZuU3DP7FUo"
   },
   "outputs": [],
   "source": [
    "def get_neighbor_code(pixels: np.array, m: int, n: int):\n",
    "    #### YOUR SOLUTION HERE"
   ]
  },
  {
   "cell_type": "markdown",
   "metadata": {
    "id": "8LJ24s8k7FUo"
   },
   "source": [
    "#### Public Tests"
   ]
  },
  {
   "cell_type": "code",
   "execution_count": null,
   "metadata": {
    "id": "wYTN7ymI7FUp"
   },
   "outputs": [],
   "source": [
    "test_cases = [\n",
    "    ((np.array([\n",
    "        [1, 0, 1],\n",
    "        [0, -1, 0],\n",
    "        [1, 1, 1]\n",
    "    ]), 1, 1), 174),\n",
    "    ((np.array([\n",
    "        [1, 0, 1],\n",
    "        [0, -1, 0],\n",
    "        [1, 1, 1]\n",
    "    ]), 0, 1), -1),\n",
    "]\n",
    "\n",
    "# X = np.random.choice(4, 10000, p=[0.25, 0.25, 0.25, 0.25])\n",
    "\n",
    "\n",
    "for i, ((X, m, n), sol) in enumerate(test_cases):\n",
    "    # Compute DGL step using your function\n",
    "    pred = get_neighbor_code(X, m, n)\n",
    "    test_almost_equal(f'{i}', pred, sol)"
   ]
  },
  {
   "cell_type": "markdown",
   "metadata": {
    "id": "_s4fOBSn7FUp"
   },
   "source": [
    "### 3. Now implement two functions:\n",
    "\n",
    "i. ```compute_px```computes a 1D probability distribution where p[x]=probability of seeing x in the whole image array, with $x\\in\\{0,1\\}$.\n",
    "\n",
    "ii. ```compute_pxy```computes the joint probability of the pixels and their neighbors. Here we will use the neighbor code from 4b) to translate the neighbors of a pixel into a proper index for our array.  Therefore p[x,y] will hold the joint probability of seeing the middle pixel $x$ and the neighbor code $y$.\n",
    "\n",
    "*Note:* As described, we only consider pixels that are not at the border, so only consider these pixels for your computations.\n",
    "\n",
    "*Note:* Both distributions should have the proper shape. Think about what this shape must be for p[x,y] (think about the range of y values possible).\n",
    "\n",
    "*Hint:* The functions ```get_pmf_1d``` and ```get_pmf_2d```may help you."
   ]
  },
  {
   "cell_type": "code",
   "execution_count": null,
   "metadata": {
    "id": "ORmRYzQ97FUp"
   },
   "outputs": [],
   "source": [
    "def compute_px(pixels: np.array):\n",
    "    #### YOUR SOLUTION HERE"
   ]
  },
  {
   "cell_type": "code",
   "execution_count": null,
   "metadata": {
    "id": "WGAu1aYw7FUp"
   },
   "outputs": [],
   "source": [
    "def compute_pxy(pixels: np.array):\n",
    "    #### YOUR SOLUTION HERE"
   ]
  },
  {
   "cell_type": "markdown",
   "metadata": {
    "id": "oJtF0GlK7FUp"
   },
   "source": [
    "#### Public Tests"
   ]
  },
  {
   "cell_type": "code",
   "execution_count": null,
   "metadata": {
    "id": "Jye_4Ql-7FUp"
   },
   "outputs": [],
   "source": [
    "test_cases = []\n",
    "i1 = np.array([\n",
    "        [1, 0, 1],\n",
    "        [0, 1, 0],\n",
    "        [1, 1, 1]\n",
    "])\n",
    "p_x1 = np.array([0, 1])\n",
    "p_xy1 = np.zeros((2, 256))\n",
    "p_xy1[1, 174] = 1\n",
    "\n",
    "test_cases.append(\n",
    "    (i1, (p_x1, p_xy1))\n",
    ")\n",
    "\n",
    "\n",
    "for i, (X, (s1, s2)) in enumerate(test_cases):\n",
    "    # Compute DGL step using your function\n",
    "    pred1 = compute_px(X)\n",
    "    pred2 = compute_pxy(X)\n",
    "    test_almost_equal(f'{i}', pred, sol)"
   ]
  },
  {
   "cell_type": "markdown",
   "metadata": {
    "id": "qLAPwpp77FUp"
   },
   "source": [
    "### 4. Using the defined functions, now compute the average conditional entropy of the pixels and their neighbors. Implement your solution in the function ```compute_average_conditional_entropy```."
   ]
  },
  {
   "cell_type": "code",
   "execution_count": null,
   "metadata": {
    "id": "wHApAhlp7FUp"
   },
   "outputs": [],
   "source": [
    "def compute_cond_entropy(pixels: np.array):\n",
    "    #### YOUR SOLUTION HERE"
   ]
  },
  {
   "cell_type": "markdown",
   "metadata": {
    "id": "vJ13x68y7FUq"
   },
   "source": [
    "#### Public Tests"
   ]
  },
  {
   "cell_type": "code",
   "execution_count": null,
   "metadata": {
    "id": "FKLWPpsT7FUq"
   },
   "outputs": [],
   "source": [
    "np.random.seed(1)\n",
    "height, width = 100, 100  # Example size, can be adjusted\n",
    "# Generate a random black-and-white image (binary values 0 and 1)\n",
    "bw_image = np.random.choice([0, 1], size=(height, width))\n",
    "test_cases = [\n",
    "    (bw_image, 7.96487)\n",
    "]\n",
    "\n",
    "for i, (X, sol) in enumerate(test_cases):\n",
    "    # Compute DGL step using your function\n",
    "    pred = compute_cond_entropy(X)\n",
    "    test_almost_equal(f'{i}', pred, sol)"
   ]
  },
  {
   "cell_type": "markdown",
   "metadata": {
    "id": "AYYgmjra7FUq"
   },
   "source": [
    "## Question 5: Compute the KL divergence between these two distributions in both directions.\n",
    "\n",
    "In this task, we want to compute the KL divergence between two distributions. To compute the KL divergence we first need 2 distributions that we wanna compare. In our case, we take the following 2 distributions\n",
    "\n",
    "$\n",
    "X_1 \\sim \\mathcal{N}(0, 1)\n",
    "$\n",
    "\n",
    "$\n",
    "X_2 \\sim \\mathcal{N}(5, 6)\n",
    "$\n"
   ]
  },
  {
   "cell_type": "markdown",
   "metadata": {
    "id": "lmHcI7FK7FUq"
   },
   "source": [
    "### 1. PDF of a normal distribution\n",
    "\n",
    "First, we want to be able to compute the probability of a value $x$ for the given 2 distributions. Therefore implement the function ```normal_pdf(x: float, mean: float, std: float)``` which computes the probability of values $x$ (array of values) for a normal distribution with mean $mean$ and standard deviation $std$."
   ]
  },
  {
   "cell_type": "code",
   "execution_count": null,
   "metadata": {
    "id": "Wgk5TD-37FUq"
   },
   "outputs": [],
   "source": [
    "def normal_pdf(x:np.ndarray, mu:float, sigma:float):\n",
    "    #### YOUR SOLUTION HERE"
   ]
  },
  {
   "cell_type": "markdown",
   "metadata": {
    "id": "zwTAsaja7FUq"
   },
   "source": [
    "#### Public Tests"
   ]
  },
  {
   "cell_type": "code",
   "execution_count": null,
   "metadata": {
    "id": "_j76Oezx7FUq"
   },
   "outputs": [],
   "source": [
    "test_cases = [(np.array([0.0,-1.0,1.0,1.5,-1.5]), np.array([0.39894228, 0.24197072, 0.24197072, 0.1295176,  0.1295176])),(np.array([0.0,-1.0,1.0,1.5,-1.5]),[0.12447389, 0.11602242, 0.13147063, 0.13432575, 0.11135996])]\n",
    "\n",
    "mu = [0,4]\n",
    "sigma = [1,8]\n",
    "y = normal_pdf(np.array([0.0,-1.0,1.0,1.5,-1.5]), 4, 8)\n",
    "for i, (X, sol) in enumerate(test_cases):\n",
    "    # Compute DGL step using your function\n",
    "    pred = normal_pdf(X,mu[i],sigma[i])\n",
    "    test_almost_equal_array(f'{i}', pred, sol)"
   ]
  },
  {
   "cell_type": "markdown",
   "metadata": {
    "id": "OoYBQLHS7FUq"
   },
   "source": [
    "If the function is implemented correctly, you will see a plot containting both normal distributions below."
   ]
  },
  {
   "cell_type": "code",
   "execution_count": null,
   "metadata": {
    "id": "chVJRWZE7FUq"
   },
   "outputs": [],
   "source": [
    "x  = np.linspace(-30, 30, 10000)\n",
    "\n",
    "y1 = normal_pdf(x, 0, 1)\n",
    "y2 = normal_pdf(x, 5, 6)\n",
    "\n",
    "plt.plot(x, y1, label='mu=0, sigma=1')\n",
    "plt.plot(x, y2, label='mu=5, sigma=6')\n",
    "plt.legend()"
   ]
  },
  {
   "cell_type": "markdown",
   "metadata": {
    "id": "g6ckBWXJ7FUr"
   },
   "source": [
    "### 2. Implement the function ```kl_divergence(mean1: float, sigma1: float, mean2: float, sigma2: float)``` which computes the KL divergence between the two normal distributions with the given parameters.\n",
    "The general formula for the KL divergence is $D_{\\mathrm{KL}}[p: q]=\\int p \\log \\frac{p}{q} \\mathrm{~d} \\mu$ where $p$ and $q$ are the two distributions we want to compare.\n",
    "In our case, we have 2 normal distributions which has the advantage that a closed-form solution for the KL divergence exists. The KL divergence between two normal distributions is given by:\n",
    "$D_{\\text{KL}}(p \\,||\\, q) = \\log\\left(\\frac{\\sigma_q}{\\sigma_p}\\right) + \\frac{\\sigma_p^2 + (\\mu_p - \\mu_q)^2}{2 \\sigma_q^2} - \\frac{1}{2}$"
   ]
  },
  {
   "cell_type": "code",
   "execution_count": null,
   "metadata": {
    "id": "JXVeeZ5y7FUr"
   },
   "outputs": [],
   "source": [
    "def kl_divergence(mu1,sigma1,mu2,sigma2):\n",
    "    #### YOUR SOLUTION HERE"
   ]
  },
  {
   "cell_type": "markdown",
   "metadata": {
    "id": "9tOltbMu7FUr"
   },
   "source": [
    "#### Public Tests"
   ]
  },
  {
   "cell_type": "code",
   "execution_count": null,
   "metadata": {
    "id": "wUgR-R2O7FUr"
   },
   "outputs": [],
   "source": [
    "test_cases = [((0,1,0,1), 0.0),((9,2,3,8),2.568147180559945),((12,4,0,1),72.80685281944005)]\n",
    "\n",
    "\n",
    "for i, (X, sol) in enumerate(test_cases):\n",
    "    # Compute DGL step using your function\n",
    "    pred = kl_divergence(*X)\n",
    "    test_almost_equal(f'{i}', pred, sol)"
   ]
  },
  {
   "cell_type": "markdown",
   "metadata": {
    "id": "GSl5cub87FUr"
   },
   "source": [
    "### 3. Now compute the KL divergence for the two given normal distributions.\n",
    "\n",
    "Hereby compute the KL-divergence once where x1 corresponds to p and x2 corresponds to q and once where x1 corresponds to q and x2 corresponds to p. Save the results in the variables kl1 and kl2 and print them. What do you observe and why? Answer this question in the cell below."
   ]
  },
  {
   "cell_type": "code",
   "execution_count": null,
   "metadata": {
    "id": "l7vgxteY7FUr"
   },
   "outputs": [],
   "source": [
    "kl1 = kl_divergence(0,1,5,6)\n",
    "kl2 = kl_divergence(5,6,0,1)\n",
    "\n",
    "print(f\"KL-divergence between X1 and X2: {kl1}\")\n",
    "print(f\"KL-divergence between X2 and X1: {kl2}\")"
   ]
  },
  {
   "cell_type": "markdown",
   "metadata": {
    "id": "xFoyoxTf7FUr"
   },
   "source": [
    "#### YOUR SOLUTION HERE"
   ]
  }
 ],
 "metadata": {
  "colab": {
   "provenance": []
  },
  "kernelspec": {
   "display_name": "Python 3",
   "language": "python",
   "name": "python3"
  },
  "language_info": {
   "codemirror_mode": {
    "name": "ipython",
    "version": 3
   },
   "file_extension": ".py",
   "mimetype": "text/x-python",
   "name": "python",
   "nbconvert_exporter": "python",
   "pygments_lexer": "ipython3",
   "version": "3.12.7"
  }
 },
 "nbformat": 4,
 "nbformat_minor": 0
}
